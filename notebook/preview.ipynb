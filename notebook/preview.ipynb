{
 "cells": [
  {
   "cell_type": "code",
   "execution_count": null,
   "metadata": {
    "collapsed": false
   },
   "outputs": [],
   "source": [
    "import django\n",
    "import os\n",
    "os.environ['DJANGO_SETTINGS_MODULE'] = 'gpw.settings'\n",
    "django.setup()\n",
    "from gpw.models import Statistics, Company\n",
    "import pandas as pd\n",
    "%matplotlib notebook"
   ]
  },
  {
   "cell_type": "code",
   "execution_count": null,
   "metadata": {
    "collapsed": true
   },
   "outputs": [],
   "source": [
    "from itertools import groupby\n",
    "from operator import attrgetter\n",
    "import matplotlib.pyplot as plt\n",
    "import matplotlib.dates as mdates\n",
    "\n",
    "def create_companies_df():\n",
    "    companies = Company.objects.all().values()\n",
    "    df = pd.DataFrame.from_records(companies)\n",
    "    df.drop(['id'], inplace=True, axis=1)\n",
    "    return df\n",
    "\n",
    "def create_statistics_df():\n",
    "    statistics = Statistics.objects.all().values()\n",
    "    df = pd.DataFrame.from_records(statistics)\n",
    "    df.drop(['id'], inplace=True, axis=1)\n",
    "    columns_to_drop = []\n",
    "    for column in df:\n",
    "        unique_values = df[column].unique()\n",
    "        if len(unique_values) == 1:\n",
    "            columns_to_drop.append(column)\n",
    "    print('Dropping columns from statistics: {}'.format(columns_to_drop))\n",
    "    df.drop(columns_to_drop, inplace=True, axis=1)\n",
    "    return df\n",
    "\n",
    "def plot_company_stats(stats_df, company, stats_column='close_price'):\n",
    "    company_stats = stats_df.loc[stats_df['isin'] == company['isin']]\n",
    "    plt.gca().xaxis.set_major_formatter(mdates.DateFormatter('%Y/%m/%d'))\n",
    "    plt.gca().xaxis.set_major_locator(mdates.AutoDateLocator())\n",
    "    plt.plot(company_stats['date'], company_stats[stats_column], label=company['name'])\n",
    "    plt.gcf().autofmt_xdate()\n",
    "    \n",
    "def plot_sector_stats(stats_df, companies_df, sector):\n",
    "    companies_in_sector = companies_df.loc[companies_df['sector'] == sector]\n",
    "    for _, company in companies_in_sector.iterrows():\n",
    "        plot_company_stats(stats_df, company)\n",
    "    ax = plt.subplot(111)\n",
    "    box = ax.get_position()\n",
    "    ax.set_position([box.x0, box.y0, box.width * 0.8, box.height])\n",
    "    ax.legend(loc='center left', bbox_to_anchor=(1, 0.5))"
   ]
  },
  {
   "cell_type": "code",
   "execution_count": null,
   "metadata": {
    "collapsed": false,
    "scrolled": false
   },
   "outputs": [],
   "source": [
    "companies_df = create_companies_df()\n",
    "statistics_df = create_statistics_df()"
   ]
  },
  {
   "cell_type": "code",
   "execution_count": null,
   "metadata": {
    "collapsed": false
   },
   "outputs": [],
   "source": [
    "plot_sector_stats(statistics_df, companies_df, 'Media')"
   ]
  },
  {
   "cell_type": "code",
   "execution_count": null,
   "metadata": {
    "collapsed": true
   },
   "outputs": [],
   "source": []
  }
 ],
 "metadata": {
  "kernelspec": {
   "display_name": "Python 3",
   "language": "python",
   "name": "python3"
  },
  "language_info": {
   "codemirror_mode": {
    "name": "ipython",
    "version": 3
   },
   "file_extension": ".py",
   "mimetype": "text/x-python",
   "name": "python",
   "nbconvert_exporter": "python",
   "pygments_lexer": "ipython3",
   "version": "3.5.2"
  }
 },
 "nbformat": 4,
 "nbformat_minor": 1
}
